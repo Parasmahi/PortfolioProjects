{
 "cells": [
  {
   "cell_type": "markdown",
   "id": "4e07080f",
   "metadata": {},
   "source": [
    "# Importing the libraries"
   ]
  },
  {
   "cell_type": "code",
   "execution_count": 7,
   "id": "ca9deff3",
   "metadata": {},
   "outputs": [],
   "source": [
    "import pandas as pd\n",
    "import numpy as np\n",
    "import matplotlib.pyplot as plt"
   ]
  },
  {
   "cell_type": "markdown",
   "id": "04460945",
   "metadata": {},
   "source": [
    "# Reading the dataset"
   ]
  },
  {
   "cell_type": "code",
   "execution_count": 10,
   "id": "2bc3314c",
   "metadata": {},
   "outputs": [],
   "source": [
    "data=pd.read_excel(r'Fluoride.xlsx')\n",
    "df=pd.DataFrame(data)"
   ]
  },
  {
   "cell_type": "code",
   "execution_count": 11,
   "id": "ade3a431",
   "metadata": {},
   "outputs": [
    {
     "data": {
      "text/html": [
       "<div>\n",
       "<style scoped>\n",
       "    .dataframe tbody tr th:only-of-type {\n",
       "        vertical-align: middle;\n",
       "    }\n",
       "\n",
       "    .dataframe tbody tr th {\n",
       "        vertical-align: top;\n",
       "    }\n",
       "\n",
       "    .dataframe thead th {\n",
       "        text-align: right;\n",
       "    }\n",
       "</style>\n",
       "<table border=\"1\" class=\"dataframe\">\n",
       "  <thead>\n",
       "    <tr style=\"text-align: right;\">\n",
       "      <th></th>\n",
       "      <th>pH</th>\n",
       "      <th>TDS</th>\n",
       "      <th>Conductivity</th>\n",
       "      <th>TH</th>\n",
       "      <th>Calcium</th>\n",
       "      <th>Magnesium</th>\n",
       "      <th>Sodium</th>\n",
       "      <th>Potassiun</th>\n",
       "      <th>Bicarbonate</th>\n",
       "      <th>Chloride</th>\n",
       "      <th>Fluoride</th>\n",
       "    </tr>\n",
       "  </thead>\n",
       "  <tbody>\n",
       "    <tr>\n",
       "      <th>0</th>\n",
       "      <td>7.42</td>\n",
       "      <td>962.0</td>\n",
       "      <td>2765.0</td>\n",
       "      <td>264.0</td>\n",
       "      <td>88.5</td>\n",
       "      <td>10.9</td>\n",
       "      <td>54.8</td>\n",
       "      <td>3.1</td>\n",
       "      <td>340.8</td>\n",
       "      <td>110.97</td>\n",
       "      <td>1.0</td>\n",
       "    </tr>\n",
       "    <tr>\n",
       "      <th>1</th>\n",
       "      <td>7.46</td>\n",
       "      <td>855.0</td>\n",
       "      <td>1852.0</td>\n",
       "      <td>240.0</td>\n",
       "      <td>72.6</td>\n",
       "      <td>14.1</td>\n",
       "      <td>91.3</td>\n",
       "      <td>10.3</td>\n",
       "      <td>355.2</td>\n",
       "      <td>136.99</td>\n",
       "      <td>1.3</td>\n",
       "    </tr>\n",
       "    <tr>\n",
       "      <th>2</th>\n",
       "      <td>7.40</td>\n",
       "      <td>460.0</td>\n",
       "      <td>1693.0</td>\n",
       "      <td>198.0</td>\n",
       "      <td>60.8</td>\n",
       "      <td>11.3</td>\n",
       "      <td>171.3</td>\n",
       "      <td>8.1</td>\n",
       "      <td>396.0</td>\n",
       "      <td>273.98</td>\n",
       "      <td>2.6</td>\n",
       "    </tr>\n",
       "    <tr>\n",
       "      <th>3</th>\n",
       "      <td>7.21</td>\n",
       "      <td>1254.0</td>\n",
       "      <td>520.0</td>\n",
       "      <td>372.0</td>\n",
       "      <td>104.9</td>\n",
       "      <td>26.6</td>\n",
       "      <td>184.4</td>\n",
       "      <td>13.5</td>\n",
       "      <td>523.2</td>\n",
       "      <td>152.98</td>\n",
       "      <td>1.0</td>\n",
       "    </tr>\n",
       "    <tr>\n",
       "      <th>4</th>\n",
       "      <td>7.62</td>\n",
       "      <td>1352.0</td>\n",
       "      <td>1456.0</td>\n",
       "      <td>262.0</td>\n",
       "      <td>53.0</td>\n",
       "      <td>31.5</td>\n",
       "      <td>27.8</td>\n",
       "      <td>4.5</td>\n",
       "      <td>352.8</td>\n",
       "      <td>283.97</td>\n",
       "      <td>0.9</td>\n",
       "    </tr>\n",
       "  </tbody>\n",
       "</table>\n",
       "</div>"
      ],
      "text/plain": [
       "     pH    TDS   Conductivity     TH  Calcium  Magnesium  Sodium  Potassiun  \\\n",
       "0  7.42   962.0        2765.0  264.0     88.5       10.9    54.8        3.1   \n",
       "1  7.46   855.0        1852.0  240.0     72.6       14.1    91.3       10.3   \n",
       "2  7.40   460.0        1693.0  198.0     60.8       11.3   171.3        8.1   \n",
       "3  7.21  1254.0         520.0  372.0    104.9       26.6   184.4       13.5   \n",
       "4  7.62  1352.0        1456.0  262.0     53.0       31.5    27.8        4.5   \n",
       "\n",
       "   Bicarbonate  Chloride  Fluoride  \n",
       "0        340.8    110.97       1.0  \n",
       "1        355.2    136.99       1.3  \n",
       "2        396.0    273.98       2.6  \n",
       "3        523.2    152.98       1.0  \n",
       "4        352.8    283.97       0.9  "
      ]
     },
     "execution_count": 11,
     "metadata": {},
     "output_type": "execute_result"
    }
   ],
   "source": [
    "df.head()"
   ]
  },
  {
   "cell_type": "markdown",
   "id": "b68d6e0e",
   "metadata": {},
   "source": [
    "# Discovering the dataset"
   ]
  },
  {
   "cell_type": "code",
   "execution_count": 12,
   "id": "00c7873b",
   "metadata": {},
   "outputs": [
    {
     "name": "stdout",
     "output_type": "stream",
     "text": [
      "The size of the dataset is: 3432\n",
      "There are 312 rows and 11 columns in the dataset\n"
     ]
    }
   ],
   "source": [
    "print(\"The size of the dataset is:\",df.size)\n",
    "print(f\"There are {df.shape[0]} rows and {df.shape[1]} columns in the dataset\")\n"
   ]
  },
  {
   "cell_type": "code",
   "execution_count": 13,
   "id": "1ba151be",
   "metadata": {},
   "outputs": [
    {
     "data": {
      "text/html": [
       "<div>\n",
       "<style scoped>\n",
       "    .dataframe tbody tr th:only-of-type {\n",
       "        vertical-align: middle;\n",
       "    }\n",
       "\n",
       "    .dataframe tbody tr th {\n",
       "        vertical-align: top;\n",
       "    }\n",
       "\n",
       "    .dataframe thead th {\n",
       "        text-align: right;\n",
       "    }\n",
       "</style>\n",
       "<table border=\"1\" class=\"dataframe\">\n",
       "  <thead>\n",
       "    <tr style=\"text-align: right;\">\n",
       "      <th></th>\n",
       "      <th>pH</th>\n",
       "      <th>TDS</th>\n",
       "      <th>Conductivity</th>\n",
       "      <th>TH</th>\n",
       "      <th>Calcium</th>\n",
       "      <th>Magnesium</th>\n",
       "      <th>Sodium</th>\n",
       "      <th>Potassiun</th>\n",
       "      <th>Bicarbonate</th>\n",
       "      <th>Chloride</th>\n",
       "      <th>Fluoride</th>\n",
       "    </tr>\n",
       "  </thead>\n",
       "  <tbody>\n",
       "    <tr>\n",
       "      <th>count</th>\n",
       "      <td>312.000000</td>\n",
       "      <td>312.000000</td>\n",
       "      <td>312.000000</td>\n",
       "      <td>312.000000</td>\n",
       "      <td>312.000000</td>\n",
       "      <td>311.000000</td>\n",
       "      <td>312.000000</td>\n",
       "      <td>311.000000</td>\n",
       "      <td>312.000000</td>\n",
       "      <td>312.000000</td>\n",
       "      <td>312.000000</td>\n",
       "    </tr>\n",
       "    <tr>\n",
       "      <th>mean</th>\n",
       "      <td>7.381936</td>\n",
       "      <td>802.930449</td>\n",
       "      <td>1112.712436</td>\n",
       "      <td>296.521068</td>\n",
       "      <td>84.647788</td>\n",
       "      <td>20.527183</td>\n",
       "      <td>114.570449</td>\n",
       "      <td>12.346849</td>\n",
       "      <td>292.749167</td>\n",
       "      <td>200.745577</td>\n",
       "      <td>1.983330</td>\n",
       "    </tr>\n",
       "    <tr>\n",
       "      <th>std</th>\n",
       "      <td>0.486309</td>\n",
       "      <td>595.575146</td>\n",
       "      <td>769.807783</td>\n",
       "      <td>207.608260</td>\n",
       "      <td>61.743344</td>\n",
       "      <td>20.361612</td>\n",
       "      <td>99.027613</td>\n",
       "      <td>28.990221</td>\n",
       "      <td>195.928988</td>\n",
       "      <td>254.016189</td>\n",
       "      <td>2.972306</td>\n",
       "    </tr>\n",
       "    <tr>\n",
       "      <th>min</th>\n",
       "      <td>5.900000</td>\n",
       "      <td>2.000000</td>\n",
       "      <td>3.000000</td>\n",
       "      <td>19.976000</td>\n",
       "      <td>1.200000</td>\n",
       "      <td>0.000000</td>\n",
       "      <td>0.900000</td>\n",
       "      <td>0.150000</td>\n",
       "      <td>20.790000</td>\n",
       "      <td>7.520000</td>\n",
       "      <td>0.010000</td>\n",
       "    </tr>\n",
       "    <tr>\n",
       "      <th>25%</th>\n",
       "      <td>7.055000</td>\n",
       "      <td>380.000000</td>\n",
       "      <td>522.250000</td>\n",
       "      <td>150.000000</td>\n",
       "      <td>40.200000</td>\n",
       "      <td>4.900000</td>\n",
       "      <td>47.675000</td>\n",
       "      <td>2.300000</td>\n",
       "      <td>137.750000</td>\n",
       "      <td>80.895000</td>\n",
       "      <td>0.500000</td>\n",
       "    </tr>\n",
       "    <tr>\n",
       "      <th>50%</th>\n",
       "      <td>7.400000</td>\n",
       "      <td>687.500000</td>\n",
       "      <td>943.500000</td>\n",
       "      <td>253.000000</td>\n",
       "      <td>76.600000</td>\n",
       "      <td>12.900000</td>\n",
       "      <td>87.400000</td>\n",
       "      <td>4.000000</td>\n",
       "      <td>258.950000</td>\n",
       "      <td>137.245000</td>\n",
       "      <td>1.000000</td>\n",
       "    </tr>\n",
       "    <tr>\n",
       "      <th>75%</th>\n",
       "      <td>7.660000</td>\n",
       "      <td>1129.300000</td>\n",
       "      <td>1543.775000</td>\n",
       "      <td>392.500000</td>\n",
       "      <td>106.700000</td>\n",
       "      <td>29.279894</td>\n",
       "      <td>163.175000</td>\n",
       "      <td>10.150000</td>\n",
       "      <td>379.320000</td>\n",
       "      <td>247.270000</td>\n",
       "      <td>1.785000</td>\n",
       "    </tr>\n",
       "    <tr>\n",
       "      <th>max</th>\n",
       "      <td>8.900000</td>\n",
       "      <td>3210.000000</td>\n",
       "      <td>3900.000000</td>\n",
       "      <td>1254.000000</td>\n",
       "      <td>353.200000</td>\n",
       "      <td>127.200000</td>\n",
       "      <td>647.600000</td>\n",
       "      <td>255.600000</td>\n",
       "      <td>1249.000000</td>\n",
       "      <td>3320.000000</td>\n",
       "      <td>17.900000</td>\n",
       "    </tr>\n",
       "  </tbody>\n",
       "</table>\n",
       "</div>"
      ],
      "text/plain": [
       "               pH         TDS   Conductivity           TH     Calcium  \\\n",
       "count  312.000000   312.000000    312.000000   312.000000  312.000000   \n",
       "mean     7.381936   802.930449   1112.712436   296.521068   84.647788   \n",
       "std      0.486309   595.575146    769.807783   207.608260   61.743344   \n",
       "min      5.900000     2.000000      3.000000    19.976000    1.200000   \n",
       "25%      7.055000   380.000000    522.250000   150.000000   40.200000   \n",
       "50%      7.400000   687.500000    943.500000   253.000000   76.600000   \n",
       "75%      7.660000  1129.300000   1543.775000   392.500000  106.700000   \n",
       "max      8.900000  3210.000000   3900.000000  1254.000000  353.200000   \n",
       "\n",
       "        Magnesium      Sodium   Potassiun  Bicarbonate     Chloride  \\\n",
       "count  311.000000  312.000000  311.000000   312.000000   312.000000   \n",
       "mean    20.527183  114.570449   12.346849   292.749167   200.745577   \n",
       "std     20.361612   99.027613   28.990221   195.928988   254.016189   \n",
       "min      0.000000    0.900000    0.150000    20.790000     7.520000   \n",
       "25%      4.900000   47.675000    2.300000   137.750000    80.895000   \n",
       "50%     12.900000   87.400000    4.000000   258.950000   137.245000   \n",
       "75%     29.279894  163.175000   10.150000   379.320000   247.270000   \n",
       "max    127.200000  647.600000  255.600000  1249.000000  3320.000000   \n",
       "\n",
       "         Fluoride  \n",
       "count  312.000000  \n",
       "mean     1.983330  \n",
       "std      2.972306  \n",
       "min      0.010000  \n",
       "25%      0.500000  \n",
       "50%      1.000000  \n",
       "75%      1.785000  \n",
       "max     17.900000  "
      ]
     },
     "execution_count": 13,
     "metadata": {},
     "output_type": "execute_result"
    }
   ],
   "source": [
    "df.describe()"
   ]
  },
  {
   "cell_type": "code",
   "execution_count": 14,
   "id": "15bc05b6",
   "metadata": {},
   "outputs": [
    {
     "data": {
      "text/plain": [
       "pH              float64\n",
       "TDS             float64\n",
       "Conductivity    float64\n",
       "TH              float64\n",
       "Calcium         float64\n",
       "Magnesium       float64\n",
       "Sodium          float64\n",
       "Potassiun       float64\n",
       "Bicarbonate     float64\n",
       "Chloride        float64\n",
       "Fluoride        float64\n",
       "dtype: object"
      ]
     },
     "execution_count": 14,
     "metadata": {},
     "output_type": "execute_result"
    }
   ],
   "source": [
    "df.dtypes"
   ]
  },
  {
   "cell_type": "code",
   "execution_count": 15,
   "id": "7baa00ac",
   "metadata": {},
   "outputs": [
    {
     "data": {
      "text/plain": [
       "pH              0\n",
       "TDS             0\n",
       "Conductivity    0\n",
       "TH              0\n",
       "Calcium         0\n",
       "Magnesium       1\n",
       "Sodium          0\n",
       "Potassiun       1\n",
       "Bicarbonate     0\n",
       "Chloride        0\n",
       "Fluoride        0\n",
       "dtype: int64"
      ]
     },
     "execution_count": 15,
     "metadata": {},
     "output_type": "execute_result"
    }
   ],
   "source": [
    "null_values=df.isnull().sum()\n",
    "null_values"
   ]
  },
  {
   "cell_type": "code",
   "execution_count": 16,
   "id": "c2c821e8",
   "metadata": {},
   "outputs": [
    {
     "name": "stdout",
     "output_type": "stream",
     "text": [
      "There are 0 duplicate rows in the dataset\n"
     ]
    }
   ],
   "source": [
    "duplicate_rows=df[df.duplicated()]\n",
    "print(f\"There are {duplicate_rows.size} duplicate rows in the dataset\")"
   ]
  },
  {
   "cell_type": "code",
   "execution_count": 17,
   "id": "4345cbfa",
   "metadata": {},
   "outputs": [
    {
     "data": {
      "text/plain": [
       "<Axes: >"
      ]
     },
     "execution_count": 17,
     "metadata": {},
     "output_type": "execute_result"
    },
    {
     "data": {
      "image/png": "[encoded data removed]",
      "text/plain": [
       "<Figure size 640x480 with 1 Axes>"
      ]
     },
     "metadata": {},
     "output_type": "display_data"
    }
   ],
   "source": [
    "df[]\n",
    "df.plot(kind='box',x='Fluoride')"
   ]
  },
  {
   "cell_type": "code",
   "execution_count": null,
   "id": "6044175f",
   "metadata": {},
   "outputs": [],
   "source": []
  }
 ],
 "metadata": {
  "kernelspec": {
   "display_name": "Python 3 (ipykernel)",
   "language": "python",
   "name": "python3"
  },
  "language_info": {
   "codemirror_mode": {
    "name": "ipython",
    "version": 3
   },
   "file_extension": ".py",
   "mimetype": "text/x-python",
   "name": "python",
   "nbconvert_exporter": "python",
   "pygments_lexer": "ipython3",
   "version": "3.9.12"
  }
 },
 "nbformat": 4,
 "nbformat_minor": 5
}
